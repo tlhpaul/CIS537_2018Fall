{
 "cells": [
  {
   "cell_type": "code",
   "execution_count": 1,
   "metadata": {},
   "outputs": [],
   "source": [
    "import pathlib\n",
    "import pickle\n",
    "import random\n",
    "import re\n",
    "import sys\n",
    "\n",
    "import nibabel as nib\n",
    "import numpy as np\n",
    "import pandas as pd"
   ]
  },
  {
   "cell_type": "markdown",
   "metadata": {},
   "source": [
    "# 1. Data preprocessing"
   ]
  },
  {
   "cell_type": "code",
   "execution_count": 2,
   "metadata": {},
   "outputs": [],
   "source": [
    "# Path to the data folder. This may be different between users\n",
    "location = '../data/secure/'\n",
    "\n",
    "data_path = pathlib.Path(location)"
   ]
  },
  {
   "cell_type": "markdown",
   "metadata": {},
   "source": [
    "### 1.1 Rename folders\n",
    "We ran into some issues where the extremely deep paths and long filenames were causing errors with our ability to load the data. To correct this issue, we renamed folders by changing the second long folder name to `feature_masks`. For example,\n",
    "\n",
    "`data/SECURE_KEY/2036311/DPm.1.2.840.113681.2863050713.1318230214.3060.1227/DPm.1.2.840.113681.2863050713.1318230214.3060`\n",
    "\n",
    "becomes \n",
    "\n",
    "`data/SECURE_KEY/2036311/DPm.1.2.840.113681.2863050713.1318230214.3060.1227/feature_masks`\n",
    "\n",
    "This does not cause any confusion or ambiguity, as both the filenames themselves, as well as the parent folders contain the same information. The directory structure within the directory given above by `location` is then:\n",
    "\n",
    "```\n",
    "location\n",
    "├── 2036311\n",
    "|   └── DPm.1.2.840.113681.2863050713.1318230214.3060.1227\n",
    "|       └── feature_masks\n",
    "|           └── feature\n",
    "|               └── DPm ... .nii.gz\n",
    "|               └── ...\n",
    "|               └── DPm ... .nii.gz\n",
    "|           └── mask\n",
    "|               └── DPm ... 0_mask_win_97_sliding_97_mean.nii.gz\n",
    "|               └── DPm ... _mask.nii.gz\n",
    "└── ...\n",
    "```"
   ]
  },
  {
   "cell_type": "code",
   "execution_count": 3,
   "metadata": {},
   "outputs": [],
   "source": [
    "# Rename folders\n",
    "for feature_dir in data_path.glob('*/*/*/feature/'):\n",
    "    parent_dir = feature_dir.parent\n",
    "    parent_dir.rename(parent_dir.parent / 'feature_masks')"
   ]
  },
  {
   "cell_type": "markdown",
   "metadata": {},
   "source": [
    "### 1.2 Train/test splitting\n",
    "We have been given data on roughly 570 patients. There is some ambiguity in the number, though, as we have case/control status on 575 patients, while we have feature maps for 569 patients. Of the 569 patients with features, 114 were cases and the remaining 455 were controls. In the context of breast cancer prediction, this means 114 of the patients eventually developed breast cancer while the others did not.\n",
    "\n",
    "Among the patients with extracted feature maps, 533 patients had two images (corresponding to left and right breast), while the remaining 36 had an image for one side only. In consultation with Dr. Aimilia Gastounioti, we decided the most sensible approach would be to treat each image as a separate sample. Using this approach, we have 1102 total samples.\n",
    "\n",
    "We opted for an 80/20 train/test split, a standard split fraction. This means that 455 patients are assigned to the traing set and 114 are assigned to the test set. We took care to ensure that the case/control ratio within both groups reflected the overall distributions. This can be seen below, where 20.2% of the patients assigned to the training set were cases, and 19.3% of the test set were cases. These numbers are not exactly 20%, though they make sense in light of the fact that the number of patients is not evenly divisible in the fraction we desire.\n",
    "\n",
    "To eliminate a source of bias in our model, we did not allow patients with multiple images to have their data split between training and testing data. This means that patients with two images always had both images together, and we split the data by patients rather than by sample."
   ]
  },
  {
   "cell_type": "code",
   "execution_count": 4,
   "metadata": {},
   "outputs": [],
   "source": [
    "# Train/test split\n",
    "# Get list of patients with feature maps\n",
    "patients_list = [subdir.name for subdir in data_path.glob('*/') if subdir.is_dir()]\n",
    "\n",
    "# Read in case/control information\n",
    "case_control_df = pd.read_excel('../controlcase.xlsx')\n",
    "\n",
    "# Create a dictionary mapping patient_id to case/control status\n",
    "patient_id_to_case = case_control_df[['DummyID', 'Class']].set_index('DummyID')['Class'].to_dict()\n",
    "\n",
    "# Set random seed so that split can be done reproducibly\n",
    "np.random.seed(0)\n",
    "\n",
    "# Pick patients whose images will be in train/test sets\n",
    "training_patients = np.random.choice(patients_list, replace=False, size=455)\n",
    "testing_patients = [patient for patient in patients_list if patient not in training_patients]"
   ]
  },
  {
   "cell_type": "code",
   "execution_count": 5,
   "metadata": {},
   "outputs": [
    {
     "name": "stdout",
     "output_type": "stream",
     "text": [
      "Training patients: 455\n",
      "Testing patients: 114\n",
      "\n",
      "Percent cases in training data: 0.2021978021978022\n",
      "Percent cases in testing data: 0.19298245614035087\n"
     ]
    }
   ],
   "source": [
    "# Verify the train/test split sizes\n",
    "print(f'Training patients: {len(training_patients)}\\n'\n",
    "      f'Testing patients: {len(testing_patients)}\\n')\n",
    "\n",
    "# Verify the relative numbers of cases and controls between training and testing\n",
    "num_training_cases = sum([patient_id_to_case[int(patient_id)] for patient_id in training_patients])\n",
    "num_testing_cases = sum([patient_id_to_case[int(patient_id)] for patient_id in testing_patients])\n",
    "\n",
    "print(f'Percent cases in training data: {num_training_cases / len(training_patients)}\\n'\n",
    "      f'Percent cases in testing data: {num_testing_cases / len(testing_patients)}')"
   ]
  },
  {
   "cell_type": "markdown",
   "metadata": {},
   "source": [
    "#### 1.2.1 Replicate training cases to class balance training data"
   ]
  },
  {
   "cell_type": "code",
   "execution_count": 6,
   "metadata": {},
   "outputs": [],
   "source": [
    "# Replicate the number of training cases\n",
    "is_train_case = [patient_id_to_case[int(patient_id)] for patient_id in training_patients]\n",
    "training_patients = np.concatenate((\n",
    "    3 * [case for i, case in enumerate(training_patients) if is_train_case[i]],\n",
    "    training_patients\n",
    "))"
   ]
  },
  {
   "cell_type": "code",
   "execution_count": 7,
   "metadata": {},
   "outputs": [
    {
     "name": "stdout",
     "output_type": "stream",
     "text": [
      "Training patients: 731\n",
      "Testing patients: 114\n",
      "\n",
      "Percent cases in training data: 0.5034199726402189\n",
      "Percent cases in testing data: 0.19298245614035087\n"
     ]
    }
   ],
   "source": [
    "# Verify the train/test split sizes\n",
    "print(f'Training patients: {len(training_patients)}\\n'\n",
    "      f'Testing patients: {len(testing_patients)}\\n')\n",
    "\n",
    "# Verify the relative numbers of cases and controls between training and testing\n",
    "num_training_cases = sum([patient_id_to_case[int(patient_id)] for patient_id in training_patients])\n",
    "num_testing_cases = sum([patient_id_to_case[int(patient_id)] for patient_id in testing_patients])\n",
    "\n",
    "print(f'Percent cases in training data: {num_training_cases / len(training_patients)}\\n'\n",
    "      f'Percent cases in testing data: {num_testing_cases / len(testing_patients)}')"
   ]
  },
  {
   "cell_type": "raw",
   "metadata": {},
   "source": [
    "# Write the ids of patients in training/testing to a file\n",
    "# so that our methods can be replicated exactly\n",
    "with open('data/training_patients.txt', 'w') as train_file:\n",
    "    train_file.write('patient_id,case_status\\n')\n",
    "    for patient_id in training_patients:\n",
    "        case_status = patient_id_to_case[int(patient_id)]\n",
    "        train_file.write(f'{patient_id},{case_status}\\n')\n",
    "        \n",
    "with open('data/testing_patients.txt', 'w') as test_file:\n",
    "    test_file.write('patient_id,case_status\\n')\n",
    "    for patient_id in testing_patients:\n",
    "        case_status = patient_id_to_case[int(patient_id)]\n",
    "        test_file.write(f'{patient_id},{case_status}\\n')"
   ]
  },
  {
   "cell_type": "markdown",
   "metadata": {},
   "source": [
    "### 1.3 Load and process feature maps\n",
    "Below, we extract all feature maps, apply the mask, sort, and combine features into 4D arrays. Then, we normalize features first across samples then within samples, just as was performed in the code provided for us.\n",
    "\n",
    "Throughout the process, we are very careful to ensure that features are always in correspondence with their patient_id or case/control status. "
   ]
  },
  {
   "cell_type": "markdown",
   "metadata": {},
   "source": [
    "#### 1.3.1 Load data into lists of feature dictionaries"
   ]
  },
  {
   "cell_type": "code",
   "execution_count": 8,
   "metadata": {},
   "outputs": [],
   "source": [
    "def patient_id_list_to_features(patient_list):\n",
    "    features = list()\n",
    "    classes = list()\n",
    "    \n",
    "    for patient_id in patient_list:\n",
    "        # Get patient's case/control status\n",
    "        patient_class = patient_id_to_case[int(patient_id)]\n",
    "        \n",
    "        # Iterate over potentially two samples\n",
    "        sample_paths = data_path.glob(f'{patient_id}/*')\n",
    "        for sample in sample_paths:\n",
    "            mask_path = next(sample.glob('feature_masks/mask/*_mean.nii.gz')).as_posix()\n",
    "            mask = nib.load(mask_path).get_data().T\n",
    "            \n",
    "            patient_features = dict()\n",
    "            features_paths = sample.glob('feature_masks/feature/*.nii.gz')\n",
    "            for feature_path in features_paths:\n",
    "\n",
    "                # Load feature map and apply mask\n",
    "                feature_map = np.nan_to_num(nib.load(feature_path.as_posix()).get_data().T)\n",
    "                masked_feature_map = np.multiply(feature_map, mask)\n",
    "\n",
    "                # Extract the feature name from its filename. Eg: norm_win_97_sliding_97_box_counting from\n",
    "                # DPm.1.2.840.113681.2863050709.1375427076.3328_norm_win_97_sliding_97_box_counting.nii.gz\n",
    "                feature_name = re.search('(?<=_).+(?=\\.nii\\.gz)', feature_path.name).group()  # noqa: W605\n",
    "                patient_features[feature_name] = masked_feature_map\n",
    "\n",
    "            features.append(patient_features)\n",
    "            classes.append(patient_class)\n",
    "    return (features, classes)\n",
    "        \n",
    "\n",
    "random.shuffle(training_patients)\n",
    "train_features, train_classes = patient_id_list_to_features(training_patients)\n",
    "test_features, test_classes = patient_id_list_to_features(testing_patients)"
   ]
  },
  {
   "cell_type": "code",
   "execution_count": 9,
   "metadata": {},
   "outputs": [
    {
     "data": {
      "text/plain": [
       "(1414, 222)"
      ]
     },
     "execution_count": 9,
     "metadata": {},
     "output_type": "execute_result"
    }
   ],
   "source": [
    "len(train_classes), len(test_classes)"
   ]
  },
  {
   "cell_type": "code",
   "execution_count": 10,
   "metadata": {},
   "outputs": [
    {
     "data": {
      "text/plain": [
       "0.5035360678925035"
      ]
     },
     "execution_count": 10,
     "metadata": {},
     "output_type": "execute_result"
    }
   ],
   "source": [
    "sum(train_classes) / len(train_classes)"
   ]
  },
  {
   "cell_type": "code",
   "execution_count": 11,
   "metadata": {},
   "outputs": [
    {
     "data": {
      "text/plain": [
       "0.1891891891891892"
      ]
     },
     "execution_count": 11,
     "metadata": {},
     "output_type": "execute_result"
    }
   ],
   "source": [
    "sum(test_classes) / len(test_classes)"
   ]
  },
  {
   "cell_type": "markdown",
   "metadata": {},
   "source": [
    "#### 1.3.2 Combine the data into 4D arrays\n",
    "Very importantly, ensure that the features are always ordered the same way for every sample."
   ]
  },
  {
   "cell_type": "code",
   "execution_count": 12,
   "metadata": {},
   "outputs": [],
   "source": [
    "# Save the data in 4D arrays\n",
    "\n",
    "# Create an ordered list of feature names to ensure they are in the same\n",
    "# order for every sample in the training and testing data\n",
    "ordered_feature_names = sorted(train_features[0].keys())\n",
    "\n",
    "# Save the data in 4D arrays\n",
    "train_data = np.zeros((len(train_features), 34, 26, 29))\n",
    "test_data = np.zeros((len(test_features), 34, 26, 29))\n",
    "\n",
    "for sample_number, sample_dict in enumerate(train_features):\n",
    "    for feature_number, feature_name in enumerate(ordered_feature_names):\n",
    "        # Crop images to all be 34 x 26. Some are originally larger at 42 x 37\n",
    "        train_data[sample_number, :, :, feature_number] = sample_dict[feature_name][0:34, 0:26]\n",
    "\n",
    "for sample_number, sample_dict in enumerate(test_features):\n",
    "    for feature_number, feature_name in enumerate(ordered_feature_names):\n",
    "        # Crop images to all be 34 x 26. Some are originally larger at 42 x 37\n",
    "        test_data[sample_number, :, :, feature_number] = sample_dict[feature_name][0:34, 0:26]\n",
    "\n",
    "# Convert label lists to numpy arrays\n",
    "train_classes = np.asarray(train_classes)\n",
    "test_classes = np.asarray(test_classes)"
   ]
  },
  {
   "cell_type": "markdown",
   "metadata": {},
   "source": [
    "#### 1.3.3 Normalize the feature maps\n",
    "As was done in the preprocessing code from the 2016 paper, we first normalize across samples, then normalize features within samples. Note that we add a term, `epsilon` to the divisors below. This is because some features are zero across all samples or across all feature_maps within sample. In these cases, we would be dividing by zero, which would introduce unwanted `nan` terms into the data."
   ]
  },
  {
   "cell_type": "code",
   "execution_count": 13,
   "metadata": {},
   "outputs": [],
   "source": [
    "epsilon = 1e-8\n",
    "\n",
    "# Normalize the data across samples\n",
    "# Combine the data and find the largest magnitude values for each feature\n",
    "full_data = np.concatenate((train_data, test_data))\n",
    "max_image = np.abs(full_data).max(axis=0)\n",
    "\n",
    "train_data = np.divide(train_data, max_image + epsilon)\n",
    "test_data = np.divide(test_data, max_image + epsilon)\n",
    "\n",
    "# Normalize feature maps within samples so that the maximum value in each is 1.\n",
    "# # This is the within-sample normalization that was performed\n",
    "# # in the preprocessing code we received from the 2016 paper\n",
    "for data_source in (train_data, test_data):\n",
    "    for sample_number, sample in enumerate(data_source):\n",
    "        for feature_number in range(29):\n",
    "            feature_map = sample[:, :, feature_number]\n",
    "            max_val = np.abs(feature_map).max()\n",
    "            data_source[sample_number, :, :, feature_number] = np.divide(feature_map, max_val + epsilon)\n",
    "\n",
    "# Save the data as pickled tuples of data, labels\n",
    "training_set = (train_data, train_classes)\n",
    "testing_set = (test_data, test_classes)\n",
    "\n",
    "train_data_path = data_path.parent.joinpath('train_data.pkl')\n",
    "test_data_path = data_path.parent.joinpath('test_data.pkl')\n",
    "\n",
    "with open(train_data_path, 'wb') as f:\n",
    "    pickle.dump(training_set, f)\n",
    "\n",
    "with open(test_data_path, 'wb') as f:\n",
    "    pickle.dump(testing_set, f)"
   ]
  },
  {
   "cell_type": "markdown",
   "metadata": {},
   "source": [
    "# 2. Create and train CNN model"
   ]
  },
  {
   "cell_type": "code",
   "execution_count": 14,
   "metadata": {},
   "outputs": [
    {
     "name": "stderr",
     "output_type": "stream",
     "text": [
      "Using TensorFlow backend.\n"
     ]
    }
   ],
   "source": [
    "from keras.callbacks import EarlyStopping\n",
    "from keras.layers import Dense, Conv2D, Activation, Flatten, MaxPooling2D, Dropout, SpatialDropout2D\n",
    "from keras.models import Sequential\n",
    "from keras.optimizers import SGD\n",
    "from keras.preprocessing.image import ImageDataGenerator\n",
    "from keras.utils import to_categorical\n",
    "from sklearn.metrics import roc_auc_score\n",
    "from tensorflow import set_random_seed"
   ]
  },
  {
   "cell_type": "code",
   "execution_count": 15,
   "metadata": {},
   "outputs": [],
   "source": [
    "train_classes = to_categorical(train_classes)\n",
    "test_classes = to_categorical(test_classes)"
   ]
  },
  {
   "cell_type": "code",
   "execution_count": 23,
   "metadata": {},
   "outputs": [
    {
     "name": "stderr",
     "output_type": "stream",
     "text": [
      "/home/michael/miniconda3/envs/cis537/lib/python3.6/site-packages/ipykernel/__main__.py:40: UserWarning: The semantics of the Keras 2 argument `steps_per_epoch` is not the same as the Keras 1 argument `samples_per_epoch`. `steps_per_epoch` is the number of batches to draw from the generator at each epoch. Basically steps_per_epoch = samples_per_epoch/batch_size. Similarly `nb_val_samples`->`validation_steps` and `val_samples`->`steps` arguments have changed. Update your method calls accordingly.\n",
      "/home/michael/miniconda3/envs/cis537/lib/python3.6/site-packages/ipykernel/__main__.py:40: UserWarning: Update your `fit_generator` call to the Keras 2 API: `fit_generator(<keras_pre..., steps_per_epoch=1414, epochs=50, validation_data=<keras_pre..., validation_steps=222)`\n"
     ]
    },
    {
     "name": "stdout",
     "output_type": "stream",
     "text": [
      "Epoch 1/50\n",
      "1414/1414 [==============================] - 3s 2ms/step - loss: 0.6957 - binary_accuracy: 0.5325 - val_loss: 0.6148 - val_binary_accuracy: 0.7407\n",
      "Epoch 2/50\n",
      "1414/1414 [==============================] - 3s 2ms/step - loss: 0.6750 - binary_accuracy: 0.5792 - val_loss: 0.5810 - val_binary_accuracy: 0.7322\n",
      "Epoch 3/50\n",
      "1414/1414 [==============================] - 3s 2ms/step - loss: 0.6418 - binary_accuracy: 0.6368 - val_loss: 0.6310 - val_binary_accuracy: 0.6457\n",
      "Epoch 4/50\n",
      "1414/1414 [==============================] - 3s 2ms/step - loss: 0.5867 - binary_accuracy: 0.7111 - val_loss: 0.7157 - val_binary_accuracy: 0.5615\n",
      "Epoch 5/50\n",
      "1414/1414 [==============================] - 3s 2ms/step - loss: 0.5273 - binary_accuracy: 0.7348 - val_loss: 0.6876 - val_binary_accuracy: 0.6080\n",
      "Epoch 6/50\n",
      "1414/1414 [==============================] - 3s 2ms/step - loss: 0.4605 - binary_accuracy: 0.7769 - val_loss: 0.6070 - val_binary_accuracy: 0.7127\n",
      "Epoch 7/50\n",
      "1414/1414 [==============================] - 3s 2ms/step - loss: 0.4104 - binary_accuracy: 0.8182 - val_loss: 0.8082 - val_binary_accuracy: 0.5648\n",
      "Epoch 8/50\n",
      "1414/1414 [==============================] - 3s 2ms/step - loss: 0.4599 - binary_accuracy: 0.7903 - val_loss: 0.8829 - val_binary_accuracy: 0.5586\n",
      "Epoch 9/50\n",
      "1414/1414 [==============================] - 3s 2ms/step - loss: 0.3885 - binary_accuracy: 0.8197 - val_loss: 0.8991 - val_binary_accuracy: 0.5563\n",
      "Epoch 10/50\n",
      "1414/1414 [==============================] - 3s 2ms/step - loss: 0.3662 - binary_accuracy: 0.8370 - val_loss: 0.7939 - val_binary_accuracy: 0.6424\n",
      "Epoch 11/50\n",
      "1414/1414 [==============================] - 3s 2ms/step - loss: 0.3663 - binary_accuracy: 0.8373 - val_loss: 0.5415 - val_binary_accuracy: 0.7834\n",
      "Epoch 12/50\n",
      "1414/1414 [==============================] - 3s 2ms/step - loss: 0.3868 - binary_accuracy: 0.8296 - val_loss: 0.6322 - val_binary_accuracy: 0.7280\n",
      "Epoch 13/50\n",
      "1414/1414 [==============================] - 3s 2ms/step - loss: 0.3876 - binary_accuracy: 0.8236 - val_loss: 0.7861 - val_binary_accuracy: 0.7021\n",
      "Epoch 14/50\n",
      "1414/1414 [==============================] - 3s 2ms/step - loss: 0.3324 - binary_accuracy: 0.8600 - val_loss: 0.5953 - val_binary_accuracy: 0.6988\n",
      "Epoch 15/50\n",
      "1414/1414 [==============================] - 3s 2ms/step - loss: 0.4177 - binary_accuracy: 0.8129 - val_loss: 0.7522 - val_binary_accuracy: 0.6732\n",
      "Epoch 16/50\n",
      "1414/1414 [==============================] - 3s 2ms/step - loss: 0.4305 - binary_accuracy: 0.8122 - val_loss: 0.7985 - val_binary_accuracy: 0.6531\n",
      "Epoch 17/50\n",
      "1414/1414 [==============================] - 3s 2ms/step - loss: 0.4321 - binary_accuracy: 0.8016 - val_loss: 0.7518 - val_binary_accuracy: 0.6663\n",
      "Epoch 18/50\n",
      "1414/1414 [==============================] - 3s 2ms/step - loss: 0.3840 - binary_accuracy: 0.8246 - val_loss: 0.7570 - val_binary_accuracy: 0.5949\n",
      "Epoch 19/50\n",
      "1414/1414 [==============================] - 3s 2ms/step - loss: 0.3988 - binary_accuracy: 0.8098 - val_loss: 0.9751 - val_binary_accuracy: 0.5703\n",
      "Epoch 20/50\n",
      "1414/1414 [==============================] - 3s 2ms/step - loss: 0.3806 - binary_accuracy: 0.8363 - val_loss: 0.7401 - val_binary_accuracy: 0.6129\n",
      "Epoch 21/50\n",
      "1414/1414 [==============================] - 3s 2ms/step - loss: 0.3172 - binary_accuracy: 0.8586 - val_loss: 0.6803 - val_binary_accuracy: 0.7304\n",
      "Epoch 22/50\n",
      "1414/1414 [==============================] - 3s 2ms/step - loss: 0.2940 - binary_accuracy: 0.8738 - val_loss: 0.9100 - val_binary_accuracy: 0.6535\n",
      "Epoch 23/50\n",
      "1414/1414 [==============================] - 3s 2ms/step - loss: 0.3447 - binary_accuracy: 0.8419 - val_loss: 0.7886 - val_binary_accuracy: 0.6889\n",
      "Epoch 24/50\n",
      "1414/1414 [==============================] - 3s 2ms/step - loss: 0.3649 - binary_accuracy: 0.8313 - val_loss: 0.8013 - val_binary_accuracy: 0.6440\n",
      "Epoch 25/50\n",
      "1414/1414 [==============================] - 3s 2ms/step - loss: 0.3614 - binary_accuracy: 0.8335 - val_loss: 0.7839 - val_binary_accuracy: 0.6485\n",
      "Epoch 26/50\n",
      "1414/1414 [==============================] - 3s 2ms/step - loss: 0.3157 - binary_accuracy: 0.8593 - val_loss: 0.7638 - val_binary_accuracy: 0.6447\n",
      "Epoch 27/50\n",
      "1414/1414 [==============================] - 3s 2ms/step - loss: 0.3250 - binary_accuracy: 0.8564 - val_loss: 0.6246 - val_binary_accuracy: 0.6940\n",
      "Epoch 28/50\n",
      "1414/1414 [==============================] - 3s 2ms/step - loss: 0.3065 - binary_accuracy: 0.8642 - val_loss: 0.8751 - val_binary_accuracy: 0.6114\n",
      "Epoch 29/50\n",
      "1414/1414 [==============================] - 3s 2ms/step - loss: 0.3207 - binary_accuracy: 0.8571 - val_loss: 0.7915 - val_binary_accuracy: 0.7025\n",
      "Epoch 30/50\n",
      "1414/1414 [==============================] - 3s 2ms/step - loss: 0.3090 - binary_accuracy: 0.8685 - val_loss: 0.7843 - val_binary_accuracy: 0.7114\n",
      "Epoch 31/50\n",
      "1414/1414 [==============================] - 3s 2ms/step - loss: 0.3490 - binary_accuracy: 0.8472 - val_loss: 0.6519 - val_binary_accuracy: 0.7207\n",
      "Epoch 32/50\n",
      "1414/1414 [==============================] - 3s 2ms/step - loss: 0.3606 - binary_accuracy: 0.8373 - val_loss: 0.6913 - val_binary_accuracy: 0.7116\n",
      "Epoch 33/50\n",
      "1414/1414 [==============================] - 3s 2ms/step - loss: 0.3095 - binary_accuracy: 0.8522 - val_loss: 0.7462 - val_binary_accuracy: 0.7310\n",
      "Epoch 34/50\n",
      "1414/1414 [==============================] - 3s 2ms/step - loss: 0.2874 - binary_accuracy: 0.8741 - val_loss: 0.8785 - val_binary_accuracy: 0.6534\n",
      "Epoch 35/50\n",
      "1414/1414 [==============================] - 3s 2ms/step - loss: 0.2991 - binary_accuracy: 0.8663 - val_loss: 0.9571 - val_binary_accuracy: 0.6396\n",
      "Epoch 36/50\n",
      "1414/1414 [==============================] - 3s 2ms/step - loss: 0.2945 - binary_accuracy: 0.8741 - val_loss: 0.8231 - val_binary_accuracy: 0.6392\n",
      "Epoch 37/50\n",
      "1414/1414 [==============================] - 3s 2ms/step - loss: 0.3067 - binary_accuracy: 0.8727 - val_loss: 0.8393 - val_binary_accuracy: 0.6794\n",
      "Epoch 38/50\n",
      "1414/1414 [==============================] - 3s 2ms/step - loss: 0.2719 - binary_accuracy: 0.8819 - val_loss: 0.8487 - val_binary_accuracy: 0.6895\n",
      "Epoch 39/50\n",
      "1414/1414 [==============================] - 3s 2ms/step - loss: 0.2427 - binary_accuracy: 0.9095 - val_loss: 0.8326 - val_binary_accuracy: 0.7163\n",
      "Epoch 40/50\n",
      "1414/1414 [==============================] - 3s 2ms/step - loss: 0.2405 - binary_accuracy: 0.8967 - val_loss: 0.8794 - val_binary_accuracy: 0.7381\n",
      "Epoch 41/50\n",
      "1414/1414 [==============================] - 3s 2ms/step - loss: 0.2358 - binary_accuracy: 0.9088 - val_loss: 0.8919 - val_binary_accuracy: 0.6727\n",
      "Epoch 42/50\n",
      "1414/1414 [==============================] - 3s 2ms/step - loss: 0.2961 - binary_accuracy: 0.8748 - val_loss: 0.8613 - val_binary_accuracy: 0.6438\n",
      "Epoch 43/50\n",
      "1414/1414 [==============================] - 3s 2ms/step - loss: 0.2603 - binary_accuracy: 0.8932 - val_loss: 0.8121 - val_binary_accuracy: 0.7254\n",
      "Epoch 44/50\n",
      "1414/1414 [==============================] - 3s 2ms/step - loss: 0.2232 - binary_accuracy: 0.9158 - val_loss: 0.8859 - val_binary_accuracy: 0.6808\n",
      "Epoch 45/50\n",
      "1414/1414 [==============================] - 3s 2ms/step - loss: 0.2543 - binary_accuracy: 0.8953 - val_loss: 0.7530 - val_binary_accuracy: 0.7075\n",
      "Epoch 46/50\n",
      "1414/1414 [==============================] - 3s 2ms/step - loss: 0.2590 - binary_accuracy: 0.8925 - val_loss: 0.8413 - val_binary_accuracy: 0.6566\n",
      "Epoch 47/50\n",
      "1414/1414 [==============================] - 3s 2ms/step - loss: 0.3350 - binary_accuracy: 0.8557 - val_loss: 0.9362 - val_binary_accuracy: 0.6854\n",
      "Epoch 48/50\n",
      "1414/1414 [==============================] - 3s 2ms/step - loss: 0.2984 - binary_accuracy: 0.8784 - val_loss: 0.7597 - val_binary_accuracy: 0.7158\n",
      "Epoch 49/50\n",
      "1414/1414 [==============================] - 3s 2ms/step - loss: 0.2358 - binary_accuracy: 0.9074 - val_loss: 0.7969 - val_binary_accuracy: 0.7339\n",
      "Epoch 50/50\n",
      "1414/1414 [==============================] - 3s 2ms/step - loss: 0.2920 - binary_accuracy: 0.8727 - val_loss: 0.7952 - val_binary_accuracy: 0.7119\n",
      "222/222 [==============================] - 0s 132us/step\n",
      "Weighted test accuracy:  0.711711713322648\n",
      "_________________________________________________________________\n",
      "Layer (type)                 Output Shape              Param #   \n",
      "=================================================================\n",
      "conv2d_7 (Conv2D)            (None, 30, 22, 10)        7260      \n",
      "_________________________________________________________________\n",
      "max_pooling2d_7 (MaxPooling2 (None, 15, 11, 10)        0         \n",
      "_________________________________________________________________\n",
      "conv2d_8 (Conv2D)            (None, 12, 9, 10)         1210      \n",
      "_________________________________________________________________\n",
      "max_pooling2d_8 (MaxPooling2 (None, 6, 4, 10)          0         \n",
      "_________________________________________________________________\n",
      "flatten_4 (Flatten)          (None, 240)               0         \n",
      "_________________________________________________________________\n",
      "dense_7 (Dense)              (None, 5)                 1205      \n",
      "_________________________________________________________________\n",
      "dense_8 (Dense)              (None, 2)                 12        \n",
      "=================================================================\n",
      "Total params: 9,687\n",
      "Trainable params: 9,687\n",
      "Non-trainable params: 0\n",
      "_________________________________________________________________\n",
      "None\n",
      "AUROC: 0.6011904761904762\n"
     ]
    }
   ],
   "source": [
    "# Set numpy and TensorFlow random seeds in the hopes of making\n",
    "# results reproducible. This will not be possible when using a GPU,\n",
    "# as there may be asynchronous processing for which no random seed\n",
    "# could account.\n",
    "set_random_seed(2)\n",
    "np.random.seed(1)\n",
    "\n",
    "datagen = ImageDataGenerator()\n",
    "datagen.fit(train_data)\n",
    "\n",
    "val_datagen = ImageDataGenerator()\n",
    "val_datagen.fit(test_data)\n",
    "\n",
    "model = Sequential([\n",
    "    Conv2D(10, kernel_size=(5, 5), activation='tanh',\n",
    "           data_format='channels_last', input_shape=(34, 26, 29)),\n",
    "    MaxPooling2D(pool_size=(2, 2)),\n",
    "#     Dropout(0.2),\n",
    "    Conv2D(10, kernel_size=(4, 3), activation='tanh'),\n",
    "    MaxPooling2D(pool_size=(2, 2)),\n",
    "#     Dropout(0.4),\n",
    "    Flatten(),\n",
    "    Dense(5, activation='tanh'),\n",
    "    Dense(2, activation='sigmoid')\n",
    "])\n",
    "\n",
    "sgd = SGD(lr=0.01)\n",
    "model.compile(optimizer=sgd, loss='binary_crossentropy',\n",
    "              metrics=['binary_accuracy'])\n",
    "\n",
    "callback = EarlyStopping(monitor='val_loss', min_delta=-0.1, patience=3,\n",
    "                         verbose=1, mode='auto', baseline=0.8)\n",
    "\n",
    "# class_weights = {0: 1, 1: 4}\n",
    "model.fit_generator(datagen.flow(train_data, train_classes, batch_size=1, shuffle=True),\n",
    "#                     callbacks=[callback],\n",
    "                    steps_per_epoch=len(train_data), epochs=50,\n",
    "#                     class_weight=class_weights,\n",
    "                    validation_data=val_datagen.flow(test_data, test_classes),\n",
    "                    nb_val_samples=test_data.shape[0])\n",
    "\n",
    "score = model.evaluate(test_data, test_classes)\n",
    "\n",
    "print(\"Weighted test accuracy: \", score[1])\n",
    "preds = model.predict(test_data)\n",
    "auc = roc_auc_score(test_classes, preds)\n",
    "print(model.summary())\n",
    "print(f\"AUROC: {auc}\")"
   ]
  },
  {
   "cell_type": "code",
   "execution_count": 24,
   "metadata": {},
   "outputs": [
    {
     "name": "stdout",
     "output_type": "stream",
     "text": [
      "1414/1414 [==============================] - 0s 104us/step\n",
      "Weighted test accuracy:  0.937057991513437\n",
      "_________________________________________________________________\n",
      "Layer (type)                 Output Shape              Param #   \n",
      "=================================================================\n",
      "conv2d_7 (Conv2D)            (None, 30, 22, 10)        7260      \n",
      "_________________________________________________________________\n",
      "max_pooling2d_7 (MaxPooling2 (None, 15, 11, 10)        0         \n",
      "_________________________________________________________________\n",
      "conv2d_8 (Conv2D)            (None, 12, 9, 10)         1210      \n",
      "_________________________________________________________________\n",
      "max_pooling2d_8 (MaxPooling2 (None, 6, 4, 10)          0         \n",
      "_________________________________________________________________\n",
      "flatten_4 (Flatten)          (None, 240)               0         \n",
      "_________________________________________________________________\n",
      "dense_7 (Dense)              (None, 5)                 1205      \n",
      "_________________________________________________________________\n",
      "dense_8 (Dense)              (None, 2)                 12        \n",
      "=================================================================\n",
      "Total params: 9,687\n",
      "Trainable params: 9,687\n",
      "Non-trainable params: 0\n",
      "_________________________________________________________________\n",
      "None\n",
      "AUROC: 0.9841624251736611\n"
     ]
    }
   ],
   "source": [
    "# Check AUC on the training data, just to verify that the training data was learned.\n",
    "score = model.evaluate(train_data, train_classes)\n",
    "\n",
    "print(\"Weighted test accuracy: \", score[1])\n",
    "preds = model.predict(train_data)\n",
    "auc = roc_auc_score(train_classes, preds)\n",
    "print(model.summary())\n",
    "print(f\"AUROC: {auc}\")"
   ]
  },
  {
   "cell_type": "code",
   "execution_count": 25,
   "metadata": {
    "scrolled": true
   },
   "outputs": [],
   "source": [
    "model.save('../model/most_recent.h5')"
   ]
  }
 ],
 "metadata": {
  "kernelspec": {
   "display_name": "Python [conda env:cis537]",
   "language": "python",
   "name": "conda-env-cis537-py"
  },
  "language_info": {
   "codemirror_mode": {
    "name": "ipython",
    "version": 3
   },
   "file_extension": ".py",
   "mimetype": "text/x-python",
   "name": "python",
   "nbconvert_exporter": "python",
   "pygments_lexer": "ipython3",
   "version": "3.6.6"
  }
 },
 "nbformat": 4,
 "nbformat_minor": 2
}
